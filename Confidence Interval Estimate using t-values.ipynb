{
 "cells": [
  {
   "cell_type": "markdown",
   "id": "e64ec05d",
   "metadata": {},
   "source": [
    "## C.I.E using t-values (Confidence Interval Estimate)\n",
    "\n",
    "### Credit Card Launch example sample mean: 1990 sample SD: 2833 Pop mean: ? n=140 (In cases, where pop SD is not known, use t-values and practically in all problems prefer t over z) \n",
    "\n",
    "### Q: Construct 95% confidence interval for mean card balance and interpret it"
   ]
  },
  {
   "cell_type": "code",
   "execution_count": 1,
   "id": "bdf0d89e",
   "metadata": {},
   "outputs": [],
   "source": [
    "import numpy as np\n",
    "import pandas as pd\n",
    "from scipy import stats\n",
    "from scipy.stats import norm"
   ]
  },
  {
   "cell_type": "code",
   "execution_count": 2,
   "id": "0d1d9f9e",
   "metadata": {},
   "outputs": [
    {
     "data": {
      "text/plain": [
       "1.977177724476122"
      ]
     },
     "execution_count": 2,
     "metadata": {},
     "output_type": "execute_result"
    }
   ],
   "source": [
    "# t-value = stats.t.ppf(0.975,df=n-1)\n",
    "stats.t.ppf(0.975,df=139)"
   ]
  },
  {
   "cell_type": "code",
   "execution_count": 3,
   "id": "3f6c5263",
   "metadata": {},
   "outputs": [
    {
     "data": {
      "text/plain": [
       "(-1.977177724476122, 1.977177724476122)"
      ]
     },
     "execution_count": 3,
     "metadata": {},
     "output_type": "execute_result"
    }
   ],
   "source": [
    "# or Simpler method : 95% t-value interval\n",
    "stats.t.interval(0.95,df=139)"
   ]
  },
  {
   "cell_type": "code",
   "execution_count": 4,
   "id": "82064a73",
   "metadata": {},
   "outputs": [
    {
     "data": {
      "text/plain": [
       "239.43220036458874"
      ]
     },
     "execution_count": 4,
     "metadata": {},
     "output_type": "execute_result"
    }
   ],
   "source": [
    "#Sample Standard Error= Sample SD/sqrt(n) \n",
    "SE = 2833/(140**0.5)\n",
    "SE"
   ]
  },
  {
   "cell_type": "code",
   "execution_count": 5,
   "id": "57c2da7d",
   "metadata": {},
   "outputs": [
    {
     "data": {
      "text/plain": [
       "[1516.642936, 2463.357064]"
      ]
     },
     "execution_count": 5,
     "metadata": {},
     "output_type": "execute_result"
    }
   ],
   "source": [
    "# 95% confidence interval using t value = Sample mean -+ (t_value * SE) \n",
    "[1990-(1.977*239.432),1990+(1.977*239.432)]"
   ]
  },
  {
   "cell_type": "markdown",
   "id": "10a71513",
   "metadata": {},
   "source": [
    "### Or Direct Simple method: 95% CIE for Sample mean using t-value\n",
    "#### stats.t.interval(0.95,df,loc=samp_mean,scale=Samp_SD/Sqrt(n))"
   ]
  },
  {
   "cell_type": "code",
   "execution_count": 6,
   "id": "c6be8b4c",
   "metadata": {},
   "outputs": [
    {
     "data": {
      "text/plain": [
       "(1516.5999869168315, 2463.4000130831682)"
      ]
     },
     "execution_count": 6,
     "metadata": {},
     "output_type": "execute_result"
    }
   ],
   "source": [
    "stats.t.interval(0.95,139,1990,(2833/140**0.5))"
   ]
  },
  {
   "cell_type": "code",
   "execution_count": null,
   "id": "5f924593",
   "metadata": {},
   "outputs": [],
   "source": []
  }
 ],
 "metadata": {
  "kernelspec": {
   "display_name": "Python 3",
   "language": "python",
   "name": "python3"
  },
  "language_info": {
   "codemirror_mode": {
    "name": "ipython",
    "version": 3
   },
   "file_extension": ".py",
   "mimetype": "text/x-python",
   "name": "python",
   "nbconvert_exporter": "python",
   "pygments_lexer": "ipython3",
   "version": "3.8.8"
  }
 },
 "nbformat": 4,
 "nbformat_minor": 5
}
